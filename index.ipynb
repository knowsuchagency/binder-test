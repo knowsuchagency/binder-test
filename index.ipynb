{
 "cells": [
  {
   "cell_type": "markdown",
   "metadata": {},
   "source": [
    "## This is a [Jupyter](http://jupyter.org/) notebook brought to you by [Binder](http://mybinder.org)\n",
    "## Binder is magic! So are Jupyter notebooks\n",
    "\n",
    "\n",
    "### We can link to other notebooks in this repo via [relative links](subfolder/hello.ipynb) (double click this cell to view the raw markdown)\n",
    "### Check out other cool notebooks at [nbviewer](https://nbviewer.jupyter.org/)"
   ]
  },
  {
   "cell_type": "code",
   "execution_count": 4,
   "metadata": {
    "collapsed": false
   },
   "outputs": [
    {
     "data": {
      "text/html": [
       "<img src=\"http://i.imgur.com/hvFv1ow.png\"/>"
      ],
      "text/plain": [
       "<IPython.core.display.Image object>"
      ]
     },
     "execution_count": 4,
     "metadata": {},
     "output_type": "execute_result"
    }
   ],
   "source": [
    "from IPython.display import Image\n",
    "Image(url=\"http://i.imgur.com/hvFv1ow.png\")"
   ]
  },
  {
   "cell_type": "markdown",
   "metadata": {},
   "source": [
    "### Let's play with some sample data in the repo"
   ]
  },
  {
   "cell_type": "code",
   "execution_count": 13,
   "metadata": {
    "collapsed": false
   },
   "outputs": [
    {
     "name": "stdout",
     "output_type": "stream",
     "text": [
      "[{'email': 'jmoreno0@narod.ru',\n",
      "  'first_name': 'Jeffrey',\n",
      "  'gender': 'Male',\n",
      "  'ip_address': '230.166.67.38',\n",
      "  'last_name': 'Moreno'},\n",
      " {'email': 'tfernandez1@dagondesign.com',\n",
      "  'first_name': 'Timothy',\n",
      "  'gender': 'Male',\n",
      "  'ip_address': '1.230.150.151',\n",
      "  'last_name': 'Fernandez'},\n",
      " {'email': 'dtorres2@com.com',\n",
      "  'first_name': 'Dorothy',\n",
      "  'gender': 'Female',\n",
      "  'ip_address': '154.135.188.14',\n",
      "  'last_name': 'Torres'}]\n"
     ]
    }
   ],
   "source": [
    "from pprint import pprint\n",
    "import json\n",
    "\n",
    "with open('MOCK_DATA.json') as foo:\n",
    "    data = json.load(foo)\n",
    "\n",
    "pprint(data[:3])"
   ]
  },
  {
   "cell_type": "markdown",
   "metadata": {},
   "source": [
    "--------\n",
    "\n",
    "### This notebook is the first page that came up when you clicked on the **launch binder** button because I named it index.ipynb\n",
    "\n",
    "Had I named it something else like example.ipynb, it would open a page like the one you see if you click on _File -> Open..._\n",
    "\n",
    "Go ahead and click on that button now and see what comes up.\n",
    "\n",
    "You should see something like **this**: \n",
    "\n",
    "<img src='http://i.imgur.com/8xky9GD.png'>\n",
    "\n",
    "### You can open a terminal to play in the command line if you need to as well \n",
    "\n",
    "<img src='http://i.imgur.com/ZOh16Ak.png'>"
   ]
  },
  {
   "cell_type": "markdown",
   "metadata": {},
   "source": [
    "### In order to get started, you'll need to first have python installed on your system (preferrably the latest version of python 3)\n",
    "\n",
    "**Step 1**\n",
    "\n",
    "```pip install jupyter```\n",
    "\n",
    "**Step 2**\n",
    "\n",
    "```jupyter notebook```\n",
    "\n",
    "**Step 3**\n",
    "\n",
    "Create a notebook and save it.\n",
    "\n",
    "**Step 4**\n",
    "\n",
    "Push the folder with the notebook to github.\n",
    "\n",
    "**Step 5**\n",
    "\n",
    "Insert the link into the repo in the [binder](http://mybinder.org/) build repository form.\n",
    "\n",
    "<img src='http://i.imgur.com/IRHFtbJ.png'>\n",
    "\n",
    "Binder will build a VM for others to run your notebook and will give you a link to add to the project's README to add a button to allow people to do so. \n",
    "\n",
    "<img src='http://i.imgur.com/ezRPTjv.png'>\n",
    "\n",
    "Wait for binder to finish, add the link to your README (in this case: \\[!\\[Binder](http://mybinder.org/badge.svg)](http://mybinder.org:/repo/knowsuchagency/binder-test) ) and voilà!\n",
    "\n"
   ]
  },
  {
   "cell_type": "code",
   "execution_count": null,
   "metadata": {
    "collapsed": true
   },
   "outputs": [],
   "source": []
  }
 ],
 "metadata": {
  "kernelspec": {
   "display_name": "Python 3",
   "language": "python",
   "name": "python3"
  },
  "language_info": {
   "codemirror_mode": {
    "name": "ipython",
    "version": 3
   },
   "file_extension": ".py",
   "mimetype": "text/x-python",
   "name": "python",
   "nbconvert_exporter": "python",
   "pygments_lexer": "ipython3",
   "version": "3.5.1"
  }
 },
 "nbformat": 4,
 "nbformat_minor": 1
}
