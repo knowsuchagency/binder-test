{
 "cells": [
  {
   "cell_type": "markdown",
   "metadata": {},
   "source": [
    "## This is a [Jupyter](http://jupyter.org/) notebook brought to you by [Binder](http://mybinder.org)\n",
    "## Binder is magic! So are Jupyter notebooks\n",
    "\n",
    "### Check out other cool notebooks at [nbviewer](https://nbviewer.jupyter.org/)"
   ]
  },
  {
   "cell_type": "code",
   "execution_count": 4,
   "metadata": {
    "collapsed": false
   },
   "outputs": [
    {
     "data": {
      "text/html": [
       "<img src=\"http://i.imgur.com/hvFv1ow.png\"/>"
      ],
      "text/plain": [
       "<IPython.core.display.Image object>"
      ]
     },
     "execution_count": 4,
     "metadata": {},
     "output_type": "execute_result"
    }
   ],
   "source": [
    "from IPython.display import Image\n",
    "Image(url=\"http://i.imgur.com/hvFv1ow.png\")"
   ]
  },
  {
   "cell_type": "markdown",
   "metadata": {},
   "source": [
    "### Let's play with some sample data in the repo"
   ]
  },
  {
   "cell_type": "code",
   "execution_count": 13,
   "metadata": {
    "collapsed": false
   },
   "outputs": [
    {
     "name": "stdout",
     "output_type": "stream",
     "text": [
      "[{'email': 'jmoreno0@narod.ru',\n",
      "  'first_name': 'Jeffrey',\n",
      "  'gender': 'Male',\n",
      "  'ip_address': '230.166.67.38',\n",
      "  'last_name': 'Moreno'},\n",
      " {'email': 'tfernandez1@dagondesign.com',\n",
      "  'first_name': 'Timothy',\n",
      "  'gender': 'Male',\n",
      "  'ip_address': '1.230.150.151',\n",
      "  'last_name': 'Fernandez'},\n",
      " {'email': 'dtorres2@com.com',\n",
      "  'first_name': 'Dorothy',\n",
      "  'gender': 'Female',\n",
      "  'ip_address': '154.135.188.14',\n",
      "  'last_name': 'Torres'}]\n"
     ]
    }
   ],
   "source": [
    "from pprint import pprint\n",
    "import json\n",
    "\n",
    "with open('MOCK_DATA.json') as foo:\n",
    "    data = json.load(foo)\n",
    "\n",
    "pprint(data[:3])"
   ]
  },
  {
   "cell_type": "markdown",
   "metadata": {},
   "source": [
    "--------\n",
    "\n",
    "### This notebook is the first page that came up when you clicked on the **launch binder** button because I named it index.ipynb\n",
    "\n",
    "Had I named it something else like example.ipynb, it would open a page like the one you see if you click on _File -> Open..._\n",
    "\n",
    "Go ahead and click on that button now and see what comes up.\n",
    "\n",
    "You should see something like **this**: \n",
    "\n",
    "<img src='https://photos-6.dropbox.com/t/2/AAAFr-hLRe4T-uYx_Sx-piQVgnXoVkgpBIKuRHk6By5_9A/12/428768446/png/32x32/1/_/1/2/Screenshot%202016-10-20%2001.27.36.png/EKb0kLkDGIz8BiACKAI/k4xkBvJHSSC0K09uTNN4B9ubsr0EVvs7NRmSqPtR7ws?size=2048x1536&size_mode=3'>\n",
    "\n",
    "### You can open a terminal to play in the command line if you need to as well \n",
    "\n",
    "<img src='https://photos-1.dropbox.com/t/2/AAAvPibsKU5aUkHCAGGy1LbuEYDSbj_6n1gFhDUPmyz_yQ/12/428768446/png/32x32/1/_/1/2/Screenshot%202016-10-20%2001.32.23.png/EKb0kLkDGJD8BiACKAI/lBQnvr4F0x7VoRxxTCZzykQDkZiQQ5Uu-HiK5rQ-liY?size=2048x1536&size_mode=3'>"
   ]
  },
  {
   "cell_type": "markdown",
   "metadata": {},
   "source": [
    "### In order to get started, you'll need to first have python installed on your system (preferrably the latest version of python 3)\n",
    "\n",
    "**Step 1**\n",
    "\n",
    "```pip install jupyter```\n",
    "\n",
    "**Step 2**\n",
    "\n",
    "```jupyter notebook```\n",
    "\n",
    "**Step 3**\n",
    "\n",
    "Create a notebook and save it.\n",
    "\n",
    "**Step 4**\n",
    "\n",
    "Push the folder with the notebook to github.\n",
    "\n",
    "**Step 5**\n",
    "\n",
    "Insert the link into the repo in the [binder](http://mybinder.org/) build repository form.\n",
    "\n",
    "Binder will build a VM for others to run your notebook and will give you a link to add to the project's REAME to add a button to allow people to do so. Wait for binder to finish, add the link to your README and voilà!\n",
    "\n"
   ]
  },
  {
   "cell_type": "code",
   "execution_count": null,
   "metadata": {
    "collapsed": true
   },
   "outputs": [],
   "source": []
  }
 ],
 "metadata": {
  "kernelspec": {
   "display_name": "Python 3",
   "language": "python",
   "name": "python3"
  },
  "language_info": {
   "codemirror_mode": {
    "name": "ipython",
    "version": 3
   },
   "file_extension": ".py",
   "mimetype": "text/x-python",
   "name": "python",
   "nbconvert_exporter": "python",
   "pygments_lexer": "ipython3",
   "version": "3.5.1"
  }
 },
 "nbformat": 4,
 "nbformat_minor": 1
}
